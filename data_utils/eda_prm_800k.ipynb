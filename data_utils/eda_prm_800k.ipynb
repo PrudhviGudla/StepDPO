{
 "cells": [
  {
   "cell_type": "code",
   "execution_count": 6,
   "metadata": {},
   "outputs": [],
   "source": [
    "import pandas as pd\n",
    "import matplotlib.pyplot as plt\n",
    "import json\n",
    "from datasets import load_dataset,load_from_disk"
   ]
  },
  {
   "cell_type": "code",
   "execution_count": 22,
   "metadata": {},
   "outputs": [
    {
     "name": "stdout",
     "output_type": "stream",
     "text": [
      "                            instruction  \\\n",
      "0  How many seconds are in 7.8 minutes?   \n",
      "1  How many seconds are in 7.8 minutes?   \n",
      "2  How many seconds are in 7.8 minutes?   \n",
      "3  How many seconds are in 7.8 minutes?   \n",
      "4  How many seconds are in 7.8 minutes?   \n",
      "\n",
      "                                           responses  \\\n",
      "0                                                 []   \n",
      "1  [7.8 minutes is the same as 7 minutes and 0.8 ...   \n",
      "2  [7.8 minutes is the same as 7 minutes and 0.8 ...   \n",
      "3  [7.8 minutes is the same as 7 minutes and 0.8 ...   \n",
      "4  [7.8 minutes is the same as 7 minutes and 0.8 ...   \n",
      "\n",
      "                                       next_response answer  \\\n",
      "0  7.8 minutes is the same as 7 minutes and 0.8 m...   None   \n",
      "1  Right, and since there are 60 seconds in a min...   None   \n",
      "2  And since there are 60 seconds in a minute, th...   None   \n",
      "3  So, in total, there are 420 + 48 = 468 seconds...   None   \n",
      "4  Right. Let's check our work. 7.8 minutes is th...   None   \n",
      "\n",
      "   is_human_response  is_solution  is_preferred_response  rating  \n",
      "0              False        False                   True     1.0  \n",
      "1              False        False                   True     1.0  \n",
      "2              False        False                   True     1.0  \n",
      "3              False        False                   True     1.0  \n",
      "4              False        False                  False     0.0  \n",
      "rating\n",
      " 1.0    657776\n",
      "-1.0    254096\n",
      " 0.0    103155\n",
      "Name: count, dtype: int64\n",
      "is_human_response\n",
      "False    1053176\n",
      "True        2341\n",
      "Name: count, dtype: int64\n"
     ]
    },
    {
     "data": {
      "image/png": "[encoded data removed]",
      "text/plain": [
       "<Figure size 640x480 with 1 Axes>"
      ]
     },
     "metadata": {},
     "output_type": "display_data"
    },
    {
     "name": "stdout",
     "output_type": "stream",
     "text": [
      "                                               instruction  \\\n",
      "1054804  The radius of a sphere is $p$ units and the ra...   \n",
      "767002       Solve over the integers: $$2^a+4^b+8^c=328.$$   \n",
      "321134   Find all values of $a$ so that the lines speci...   \n",
      "\n",
      "                                             next_response  \n",
      "1054804  We know that the formula for the volume of a s...  \n",
      "767002   Now I can equate the two sides of the equation...  \n",
      "321134   So I have found a solution for $t$ and $u$, wh...  \n",
      "                                               instruction  \\\n",
      "25540    How many three-digit numbers satisfy the prope...   \n",
      "1051899  A fair 6-sided die is rolled.  If the roll is ...   \n",
      "420547   Let  \\[f(x) =\\n\\begin{cases}\\nk(x) &\\text{if }...   \n",
      "\n",
      "                                             next_response  \n",
      "25540              We also know that $a+b=8$ from earlier.  \n",
      "1051899  So we just need to find the average of the pos...  \n",
      "420547                Let me try this and see if it works.  \n"
     ]
    }
   ],
   "source": [
    "# Load dataset\n",
    "with open('../data/prm800k_stepwise_critic_split/train.jsonl', encoding='utf-8') as f:\n",
    "    data = [json.loads(line) for line in f]\n",
    "\n",
    "df = pd.DataFrame(data)\n",
    "\n",
    "# Basic stats\n",
    "print(df.head())\n",
    "print(df['rating'].value_counts())\n",
    "print(df['is_human_response'].value_counts())\n",
    "\n",
    "# Step length distribution\n",
    "df['step_length'] = df['next_response'].apply(lambda x: len(x.split()))\n",
    "plt.hist(df['step_length'], bins=30)\n",
    "plt.title('Step Length Distribution')\n",
    "plt.show()\n",
    "\n",
    "# Example correct/incorrect steps\n",
    "print(df[df['rating'] == 1].sample(3)[['instruction','next_response']])\n",
    "print(df[df['rating'] == 0].sample(3)[['instruction','next_response']])\n"
   ]
  },
  {
   "cell_type": "code",
   "execution_count": null,
   "metadata": {},
   "outputs": [],
   "source": []
  }
 ],
 "metadata": {
  "kernelspec": {
   "display_name": "stepdpo_env",
   "language": "python",
   "name": "python3"
  },
  "language_info": {
   "codemirror_mode": {
    "name": "ipython",
    "version": 3
   },
   "file_extension": ".py",
   "mimetype": "text/x-python",
   "name": "python",
   "nbconvert_exporter": "python",
   "pygments_lexer": "ipython3",
   "version": "3.13.5"
  }
 },
 "nbformat": 4,
 "nbformat_minor": 2
}
